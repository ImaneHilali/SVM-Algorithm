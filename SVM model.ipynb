{
 "cells": [
  {
   "cell_type": "markdown",
   "metadata": {
    "collapsed": false,
    "id": "oGQfjhQLKDjY"
   },
   "source": [
    "### Problème :\n",
    "#### Utilisations du modèle SVM pour l’analyse des sentiments des phrases issues d’une base d’exemples qui contient des tweets étiquetés avec un sentiment positif ou négatif, voir la base d’exemples :\n",
    " "
   ]
  },
  {
   "cell_type": "code",
   "execution_count": 3,
   "metadata": {
    "ExecuteTime": {
     "end_time": "2023-06-08T21:21:03.016802Z",
     "start_time": "2023-06-08T21:21:02.858026Z"
    },
    "id": "Fyy-yhl2vBCt"
   },
   "outputs": [],
   "source": [
    "import numpy as np\n",
    "import pandas as pd\n",
    "from sklearn.model_selection import train_test_split\n",
    "from sklearn import datasets\n",
    "import matplotlib.pyplot as plt\n",
    "import os\n",
    "import io\n",
    "import cvxopt"
   ]
  },
  {
   "cell_type": "code",
   "execution_count": 4,
   "metadata": {
    "ExecuteTime": {
     "end_time": "2023-06-08T21:21:04.169126Z",
     "start_time": "2023-06-08T21:21:04.150799Z"
    },
    "id": "d2C-RQN5KDjg"
   },
   "outputs": [],
   "source": [
    "positive_folder = \"C:\\\\Users\\\\dell i7 8 5500\\\\Downloads\\\\Twitter\\\\Positive\"\n",
    "negative_folder = \"C:\\\\Users\\\\dell i7 8 5500\\\\Downloads\\\\Twitter\\\\Negative\""
   ]
  },
  {
   "cell_type": "code",
   "execution_count": 5,
   "metadata": {
    "ExecuteTime": {
     "end_time": "2023-06-08T21:21:05.320297Z",
     "start_time": "2023-06-08T21:21:05.240932Z"
    },
    "id": "bI5vA9oSKDjh"
   },
   "outputs": [],
   "source": [
    "tweets = []  # List to store the tweets\n",
    "sentiments = [] # List to store the sentiments (positive/negative)\n"
   ]
  },
  {
   "cell_type": "code",
   "execution_count": 6,
   "metadata": {
    "ExecuteTime": {
     "end_time": "2023-06-08T21:21:08.850253Z",
     "start_time": "2023-06-08T21:21:08.253965Z"
    },
    "collapsed": false
   },
   "outputs": [],
   "source": [
    "#Loop through the positive folder and read the contents of each file\n",
    "for filename in os.listdir(positive_folder):\n",
    "    with io.open(os.path.join(positive_folder, filename), 'r', encoding='utf-8') as file:\n",
    "        tweets.append(file.read())\n",
    "        sentiments.append(1)  # 1 indicates positive\n"
   ]
  },
  {
   "cell_type": "code",
   "execution_count": 7,
   "metadata": {
    "ExecuteTime": {
     "end_time": "2023-06-08T21:21:11.619163Z",
     "start_time": "2023-06-08T21:21:10.957572Z"
    },
    "collapsed": false
   },
   "outputs": [],
   "source": [
    "#Repeat the same thing for the negative folder, changing the label to 0\n",
    "for filename in os.listdir(negative_folder):\n",
    "    try:\n",
    "        with io.open(os.path.join(negative_folder, filename), 'r', encoding='utf-8') as file:\n",
    "            tweets.append(file.read())\n",
    "            sentiments.append(-1)  # -1 indicates negative\n",
    "    except UnicodeDecodeError:\n",
    "        #print(\"Error: Failed to decode file -\", filename)\n",
    "        continue\n"
   ]
  },
  {
   "cell_type": "code",
   "execution_count": 8,
   "metadata": {
    "ExecuteTime": {
     "end_time": "2023-06-08T21:21:14.287699Z",
     "start_time": "2023-06-08T21:21:14.266360Z"
    },
    "collapsed": false
   },
   "outputs": [],
   "source": [
    "#Combine the emails and labels into a Pandas dataframe:\n",
    "df = pd.DataFrame({'tweets': tweets, 'sentiments': sentiments})\n"
   ]
  },
  {
   "cell_type": "code",
   "execution_count": 9,
   "metadata": {
    "ExecuteTime": {
     "end_time": "2023-06-08T21:21:15.697546Z",
     "start_time": "2023-06-08T21:21:15.662315Z"
    },
    "id": "3i2LjcG4KDjx"
   },
   "outputs": [],
   "source": [
    "#Ce code effectue le mélange (shuffle) aléatoire des lignes du dataframe df. Cela garantit que les tweets négatifs et positifs sont mélangés de manière aléatoire afin d'éviter un éventuel biais dans les données. L'argument frac=1 indique de prendre une fraction de 1, c'est-à-dire de sélectionner toutes les lignes du dataframe. La méthode reset_index(drop=True) réinitialise l'index du dataframe après le mélange pour éviter d'avoir un index désordonné.\n",
    "df = df.sample(frac=1).reset_index(drop=True)\n"
   ]
  },
  {
   "cell_type": "code",
   "execution_count": 10,
   "metadata": {
    "ExecuteTime": {
     "end_time": "2023-06-08T21:21:19.392434Z",
     "start_time": "2023-06-08T21:21:16.517669Z"
    },
    "collapsed": false
   },
   "outputs": [
    {
     "name": "stderr",
     "output_type": "stream",
     "text": [
      "[nltk_data] Downloading package stopwords to C:\\Users\\dell i7 8\n",
      "[nltk_data]     5500\\AppData\\Roaming\\nltk_data...\n",
      "[nltk_data]   Package stopwords is already up-to-date!\n"
     ]
    },
    {
     "data": {
      "text/plain": [
       "True"
      ]
     },
     "execution_count": 10,
     "metadata": {},
     "output_type": "execute_result"
    }
   ],
   "source": [
    "import nltk\n",
    "from nltk.corpus import stopwords\n",
    "nltk.download('stopwords')\n"
   ]
  },
  {
   "cell_type": "code",
   "execution_count": 11,
   "metadata": {
    "ExecuteTime": {
     "end_time": "2023-06-08T21:21:21.492794Z",
     "start_time": "2023-06-08T21:21:21.473894Z"
    },
    "collapsed": false
   },
   "outputs": [],
   "source": [
    "stopwords_arabic = stopwords.words('arabic')\n"
   ]
  },
  {
   "cell_type": "code",
   "execution_count": 12,
   "metadata": {
    "ExecuteTime": {
     "end_time": "2023-06-08T21:21:22.779141Z",
     "start_time": "2023-06-08T21:21:22.485776Z"
    },
    "collapsed": false
   },
   "outputs": [],
   "source": [
    "#Removing common words that do not carry much meaning or contribute significantly to the overall understanding of the text.\n",
    "def remove_arabic_stopwords(text):\n",
    "    words = text.split()\n",
    "    clean_words = [word for word in words if word not in stopwords_arabic]\n",
    "    clean_text = ' '.join(clean_words)\n",
    "    return clean_text\n",
    "\n",
    "# Applying the 'remove_arabic_stopwords' function to our 'tweet' column\n",
    "df['tweets'] = df['tweets'].apply(remove_arabic_stopwords)\n"
   ]
  },
  {
   "cell_type": "code",
   "execution_count": 13,
   "metadata": {
    "ExecuteTime": {
     "end_time": "2023-06-08T21:21:25.565871Z",
     "start_time": "2023-06-08T21:21:25.509194Z"
    },
    "collapsed": false
   },
   "outputs": [],
   "source": [
    "import numpy as np\n",
    "\n",
    "class SVM:\n",
    "    def __init__(self, learning_rate=0.001, lambda_param=0.01, n_iters=1000):\n",
    "        \"\"\"\n",
    "        Initialisation de la classe SVM.\n",
    "\n",
    "        Args:\n",
    "            learning_rate (float): Taux d'apprentissage.\n",
    "            lambda_param (float): Paramètre de régularisation.\n",
    "            n_iters (int): Nombre d'itérations.\n",
    "        \"\"\"\n",
    "        self.lr = learning_rate\n",
    "        self.lambda_param = lambda_param\n",
    "        self.n_iters = n_iters\n",
    "        self.w = None\n",
    "        self.b = None\n",
    "\n",
    "    def fit(self, X, y):\n",
    "        \"\"\"\n",
    "        Entraîne le modèle SVM sur les données d'entraînement.\n",
    "\n",
    "        Args:\n",
    "            X (array-like): Matrice des échantillons d'entraînement.\n",
    "            y (array-like): Vecteur des étiquettes d'entraînement.\n",
    "        \"\"\"\n",
    "        n_samples, n_features = X.shape\n",
    "\n",
    "        # Convertit les étiquettes en -1 et 1\n",
    "        y_ = np.where(y <= 0, -1, 1)\n",
    "\n",
    "        # Initialise les poids\n",
    "        self.w = np.zeros(n_features)\n",
    "        self.b = 0\n",
    "\n",
    "        # Entraînement du modèle\n",
    "        for _ in range(self.n_iters):\n",
    "            for idx, x_i in enumerate(X):\n",
    "                condition = y_[idx] * (np.dot(x_i, self.w) - self.b) >= 1\n",
    "                if condition:\n",
    "                    self.w -= self.lr * (2 * self.lambda_param * self.w)\n",
    "                else:\n",
    "                    self.w -= self.lr * (2 * self.lambda_param * self.w - np.dot(x_i, y_[idx]))\n",
    "                    self.b -= self.lr * y_[idx]\n",
    "\n",
    "    def predict(self, X):\n",
    "        \"\"\"\n",
    "        Prédit les étiquettes pour de nouveaux échantillons.\n",
    "\n",
    "        Args:\n",
    "            X (array-like): Matrice des échantillons à prédire.\n",
    "\n",
    "        Returns:\n",
    "            array: Vecteur d'étiquettes prédites.\n",
    "        \"\"\"\n",
    "        approx = np.dot(X, self.w) - self.b\n",
    "        return np.sign(approx)\n",
    "\n",
    "    def get_params(self, deep):\n",
    "        \"\"\"\n",
    "        Renvoie les paramètres du modèle.\n",
    "\n",
    "        Args:\n",
    "            deep (bool): Ignoré dans cette implémentation.\n",
    "\n",
    "        Returns:\n",
    "            Tuple: Paramètres du modèle.\n",
    "        \"\"\"\n",
    "        return self.lr, self.lambda_param, self.n_iters\n"
   ]
  },
  {
   "cell_type": "code",
   "execution_count": 17,
   "metadata": {
    "ExecuteTime": {
     "end_time": "2023-06-08T21:24:38.374206Z",
     "start_time": "2023-06-08T21:24:38.144851Z"
    },
    "id": "vxIBPt-BKDjy"
   },
   "outputs": [],
   "source": [
    "import pandas as pd\n",
    "from sklearn.model_selection import train_test_split\n",
    "from sklearn.feature_extraction.text import TfidfVectorizer\n",
    "from sklearn.svm import SVC\n",
    "from sklearn.metrics import accuracy_score\n",
    "from sklearn import metrics\n",
    "# Séparation des caractéristiques (tweets) et des étiquettes (sentiments)\n",
    "X = df['tweets']\n",
    "y = df['sentiments']\n",
    "\n",
    "# Création d'un objet TfidfVectorizer pour convertir les tweets en vecteurs de caractéristiques pondérées\n",
    "vectorizer = TfidfVectorizer()\n",
    "X = vectorizer.fit_transform(X)\n",
    "X = X.toarray()\n",
    "\n",
    "# Diviser les données en ensembles d'apprentissage et de test\n",
    "X_train, X_test, y_train, y_test = train_test_split(X, y, test_size=0.2, random_state=42)\n",
    "\n"
   ]
  },
  {
   "cell_type": "code",
   "execution_count": 18,
   "metadata": {
    "colab": {
     "base_uri": "https://localhost:8080/",
     "height": 1000
    },
    "id": "vp9UyD3ORoiJ",
    "outputId": "ecdb1b83-45f5-4186-dfbb-7085480b65d6"
   },
   "outputs": [
    {
     "name": "stdout",
     "output_type": "stream",
     "text": [
      "for params : learning_rate=0.001 , lambda=0.0001, n of iteration = 100  :\n",
      "Accuracy: 0.8320802005012531\n",
      "Precision: 0.8473684210526315\n",
      "Recall: 0.8090452261306532\n",
      "for params : learning_rate=0.001 , lambda=0.0001, n of iteration = 250  :\n",
      "Accuracy: 0.7944862155388471\n",
      "Precision: 0.8823529411764706\n",
      "Recall: 0.678391959798995\n",
      "for params : learning_rate=0.001 , lambda=0.0001, n of iteration = 500  :\n",
      "Accuracy: 0.8170426065162907\n",
      "Precision: 0.8795180722891566\n",
      "Recall: 0.7336683417085427\n",
      "for params : learning_rate=0.001 , lambda=0.0001, n of iteration = 750  :\n",
      "Accuracy: 0.849624060150376\n",
      "Precision: 0.8971428571428571\n",
      "Recall: 0.7889447236180904\n",
      "for params : learning_rate=0.001 , lambda=0.0001, n of iteration = 1000  :\n",
      "Accuracy: 0.8471177944862155\n",
      "Precision: 0.875\n",
      "Recall: 0.8090452261306532\n",
      "for params : learning_rate=0.001 , lambda=0.0001, n of iteration = 1250  :\n",
      "Accuracy: 0.8521303258145363\n",
      "Precision: 0.8723404255319149\n",
      "Recall: 0.8241206030150754\n",
      "for params : learning_rate=0.001 , lambda=0.0001, n of iteration = 1500  :\n",
      "Accuracy: 0.8546365914786967\n",
      "Precision: 0.873015873015873\n",
      "Recall: 0.8291457286432161\n",
      "for params : learning_rate=0.001 , lambda=0.0001, n of iteration = 2000  :\n",
      "Accuracy: 0.8546365914786967\n",
      "Precision: 0.873015873015873\n",
      "Recall: 0.8291457286432161\n",
      "for params : learning_rate=0.001 , lambda=0.0005, n of iteration = 100  :\n",
      "Accuracy: 0.8220551378446115\n",
      "Precision: 0.8076923076923077\n",
      "Recall: 0.8442211055276382\n",
      "for params : learning_rate=0.001 , lambda=0.0005, n of iteration = 250  :\n",
      "Accuracy: 0.7944862155388471\n",
      "Precision: 0.8823529411764706\n",
      "Recall: 0.678391959798995\n",
      "for params : learning_rate=0.001 , lambda=0.0005, n of iteration = 500  :\n",
      "Accuracy: 0.8095238095238095\n",
      "Precision: 0.8867924528301887\n",
      "Recall: 0.7085427135678392\n",
      "for params : learning_rate=0.001 , lambda=0.0005, n of iteration = 750  :\n",
      "Accuracy: 0.8095238095238095\n",
      "Precision: 0.8819875776397516\n",
      "Recall: 0.7135678391959799\n",
      "for params : learning_rate=0.001 , lambda=0.0005, n of iteration = 1000  :\n",
      "Accuracy: 0.8245614035087719\n",
      "Precision: 0.8957055214723927\n",
      "Recall: 0.7336683417085427\n"
     ]
    },
    {
     "ename": "KeyboardInterrupt",
     "evalue": "",
     "output_type": "error",
     "traceback": [
      "\u001b[1;31m---------------------------------------------------------------------------\u001b[0m",
      "\u001b[1;31mKeyboardInterrupt\u001b[0m                         Traceback (most recent call last)",
      "Cell \u001b[1;32mIn[18], line 14\u001b[0m\n\u001b[0;32m     12\u001b[0m \u001b[38;5;28;01mfor\u001b[39;00m it \u001b[38;5;129;01min\u001b[39;00m n_iters:\n\u001b[0;32m     13\u001b[0m   svm \u001b[38;5;241m=\u001b[39m SVM(learning_rate\u001b[38;5;241m=\u001b[39mitem,lambda_param\u001b[38;5;241m=\u001b[39mlb,n_iters\u001b[38;5;241m=\u001b[39mit)\n\u001b[1;32m---> 14\u001b[0m   \u001b[43msvm\u001b[49m\u001b[38;5;241;43m.\u001b[39;49m\u001b[43mfit\u001b[49m\u001b[43m(\u001b[49m\u001b[43mX_train\u001b[49m\u001b[43m,\u001b[49m\u001b[43m \u001b[49m\u001b[43my_train\u001b[49m\u001b[43m)\u001b[49m\n\u001b[0;32m     15\u001b[0m   y_pred \u001b[38;5;241m=\u001b[39m svm\u001b[38;5;241m.\u001b[39mpredict(X_test)\n\u001b[0;32m     16\u001b[0m   \u001b[38;5;28mprint\u001b[39m(\u001b[38;5;124mf\u001b[39m\u001b[38;5;124m\"\u001b[39m\u001b[38;5;124mfor params : learning_rate=\u001b[39m\u001b[38;5;132;01m{\u001b[39;00mitem\u001b[38;5;132;01m}\u001b[39;00m\u001b[38;5;124m , lambda=\u001b[39m\u001b[38;5;132;01m{\u001b[39;00mlb\u001b[38;5;132;01m}\u001b[39;00m\u001b[38;5;124m, n of iteration = \u001b[39m\u001b[38;5;132;01m{\u001b[39;00mit\u001b[38;5;132;01m}\u001b[39;00m\u001b[38;5;124m  :\u001b[39m\u001b[38;5;124m\"\u001b[39m)\n",
      "Cell \u001b[1;32mIn[13], line 26\u001b[0m, in \u001b[0;36mSVM.fit\u001b[1;34m(self, X, y)\u001b[0m\n\u001b[0;32m     24\u001b[0m \u001b[38;5;28;01melse\u001b[39;00m:\n\u001b[0;32m     25\u001b[0m     \u001b[38;5;28mself\u001b[39m\u001b[38;5;241m.\u001b[39mw \u001b[38;5;241m-\u001b[39m\u001b[38;5;241m=\u001b[39m \u001b[38;5;28mself\u001b[39m\u001b[38;5;241m.\u001b[39mlr \u001b[38;5;241m*\u001b[39m (\u001b[38;5;241m2\u001b[39m \u001b[38;5;241m*\u001b[39m \u001b[38;5;28mself\u001b[39m\u001b[38;5;241m.\u001b[39mlambda_param \u001b[38;5;241m*\u001b[39m \u001b[38;5;28mself\u001b[39m\u001b[38;5;241m.\u001b[39mw \u001b[38;5;241m-\u001b[39m np\u001b[38;5;241m.\u001b[39mdot(x_i, y_[idx]))\n\u001b[1;32m---> 26\u001b[0m     \u001b[38;5;28mself\u001b[39m\u001b[38;5;241m.\u001b[39mb \u001b[38;5;241m-\u001b[39m\u001b[38;5;241m=\u001b[39m \u001b[38;5;28mself\u001b[39m\u001b[38;5;241m.\u001b[39mlr \u001b[38;5;241m*\u001b[39m y_[idx]\n",
      "\u001b[1;31mKeyboardInterrupt\u001b[0m: "
     ]
    }
   ],
   "source": [
    "# Liste des différentes valeurs de taux d'apprentissage à tester\n",
    "learning_rate_params = [0.001, 0.005, 0.010, 0.015, 0.020, 0.025, 0.030]\n",
    "\n",
    "# Liste des différentes valeurs de paramètres lambda à tester\n",
    "lambda_params = [0.0001, 0.0005, 0.0010, 0.0015, 0.0020, 0.025]\n",
    "\n",
    "# Liste des différents nombres d'itérations à tester\n",
    "n_iters = [100, 250, 500, 750, 1000, 1250, 1500, 2000]\n",
    "\n",
    "# Initialisation des meilleures mesures et des meilleures combinaisons d'hyperparamètres\n",
    "best_recall = 0\n",
    "best_recall_params = []\n",
    "best_precision = 0\n",
    "best_precision_params = []\n",
    "best_accuracy = 0\n",
    "best_accuracy_params = []\n",
    "\n",
    "# Boucles pour itérer à travers toutes les combinaisons d'hyperparamètres\n",
    "for item in learning_rate_params:\n",
    "    for lb in lambda_params:\n",
    "        for it in n_iters:\n",
    "            # Création d'une instance de la classe SVM avec les hyperparamètres actuels\n",
    "            svm = SVM(learning_rate=item, lambda_param=lb, n_iters=it)\n",
    "\n",
    "            # Entraînement du modèle SVM sur les données d'entraînement\n",
    "            svm.fit(X_train, y_train)\n",
    "\n",
    "            # Prédictions du modèle SVM sur les données de test\n",
    "            y_pred = svm.predict(X_test)\n",
    "\n",
    "            # Affichage des performances pour les hyperparamètres actuels\n",
    "            print(f\"For params: learning_rate={item}, lambda={lb}, n of iterations={it}:\")\n",
    "            accuracy = accuracy_score(y_test, y_pred)\n",
    "            print(\"Accuracy:\", accuracy)\n",
    "            precision = metrics.precision_score(y_test, y_pred)\n",
    "            print(\"Precision:\", precision)\n",
    "            recall = metrics.recall_score(y_test, y_pred)\n",
    "            print(\"Recall:\", recall)\n",
    "\n",
    "            # Mise à jour des meilleures mesures et des meilleures combinaisons d'hyperparamètres si nécessaire\n",
    "            if accuracy > best_accuracy:\n",
    "                best_accuracy = accuracy\n",
    "                best_accuracy_params = [item, lb, it]\n",
    "            if recall > best_recall:\n",
    "                best_recall = recall\n",
    "                best_recall_params = [item, lb, it]\n",
    "            if precision > best_precision:\n",
    "                best_precision = precision\n",
    "                best_precision_params = [item, lb, it]\n"
   ]
  },
  {
   "cell_type": "code",
   "execution_count": 19,
   "metadata": {
    "ExecuteTime": {
     "end_time": "2023-06-08T21:42:55.575563Z",
     "start_time": "2023-06-08T21:42:55.550535Z"
    },
    "colab": {
     "base_uri": "https://localhost:8080/"
    },
    "id": "GqZLReLzjUtF",
    "outputId": "daf6f733-48e4-41d5-f64e-b37ec4bbebb2"
   },
   "outputs": [
    {
     "name": "stdout",
     "output_type": "stream",
     "text": [
      "[0.001, 0.0001, 1500]\n",
      "[0.001, 0.0001, 750]\n",
      "[0.001, 0.0005, 100]\n"
     ]
    }
   ],
   "source": [
    "print(best_accuracy_params)\n",
    "print(best_precision_params)\n",
    "print(best_recall_params)"
   ]
  },
  {
   "cell_type": "code",
   "execution_count": 21,
   "metadata": {
    "ExecuteTime": {
     "end_time": "2023-06-08T21:46:10.763532Z",
     "start_time": "2023-06-08T21:43:59.805158Z"
    },
    "id": "AYqcZhjbhT2n"
   },
   "outputs": [],
   "source": [
    "# Création d'une instance de la classe SVM avec des hyperparamètres spécifiques\n",
    "svm = SVM(learning_rate=0.001, lambda_param=0.0001, n_iters=1500)\n",
    "\n",
    "# Entraînement du modèle SVM sur les données d'entraînement\n",
    "svm.fit(X_train, y_train)\n",
    "\n",
    "# Prédictions du modèle SVM sur les données de test\n",
    "y_pred = svm.predict(X_test)\n"
   ]
  },
  {
   "cell_type": "code",
   "execution_count": 22,
   "metadata": {
    "ExecuteTime": {
     "end_time": "2023-06-08T21:46:17.750056Z",
     "start_time": "2023-06-08T21:46:17.708652Z"
    },
    "colab": {
     "base_uri": "https://localhost:8080/"
    },
    "id": "kct0WzFFQHAp",
    "outputId": "81fdefcd-e830-4536-9231-38b98d11529d"
   },
   "outputs": [
    {
     "name": "stdout",
     "output_type": "stream",
     "text": [
      "[ 1. -1.  1. -1.  1.  1.  1. -1. -1. -1. -1. -1. -1.  1.  1.  1.  1. -1.\n",
      " -1.  1.  1. -1. -1.  1.  1. -1. -1. -1.  1. -1.  1.  1. -1.  1.  1.  1.\n",
      "  1. -1. -1. -1. -1. -1.  1. -1. -1. -1. -1. -1. -1.  1. -1. -1.  1.  1.\n",
      " -1. -1.  1.  1. -1. -1.  1. -1.  1. -1.  1. -1. -1. -1. -1. -1.  1.  1.\n",
      " -1. -1. -1. -1.  1. -1. -1. -1. -1.  1.  1.  1.  1.  1. -1. -1. -1.  1.\n",
      "  1. -1.  1. -1.  1. -1.  1. -1. -1.  1.  1. -1. -1.  1. -1.  1. -1. -1.\n",
      "  1.  1.  1.  1. -1. -1. -1. -1.  1. -1.  1. -1. -1. -1.  1. -1. -1.  1.\n",
      " -1.  1.  1. -1.  1.  1.  1.  1.  1. -1.  1.  1. -1. -1. -1.  1.  1. -1.\n",
      "  1. -1. -1. -1. -1.  1. -1.  1.  1. -1. -1.  1.  1.  1. -1.  1.  1. -1.\n",
      "  1.  1.  1.  1.  1. -1. -1.  1. -1.  1.  1.  1.  1.  1. -1.  1. -1. -1.\n",
      " -1. -1. -1. -1.  1. -1. -1.  1. -1.  1. -1.  1. -1. -1. -1. -1.  1. -1.\n",
      " -1.  1. -1. -1. -1. -1. -1.  1. -1.  1.  1. -1. -1. -1. -1. -1. -1.  1.\n",
      " -1. -1.  1.  1. -1.  1.  1. -1.  1.  1.  1.  1. -1. -1. -1. -1. -1.  1.\n",
      "  1. -1.  1. -1. -1. -1. -1. -1.  1. -1. -1. -1.  1.  1.  1. -1. -1.  1.\n",
      " -1.  1.  1.  1. -1.  1. -1.  1.  1.  1. -1. -1. -1. -1. -1.  1.  1.  1.\n",
      " -1.  1. -1.  1.  1. -1.  1. -1.  1. -1. -1.  1. -1. -1.  1.  1. -1. -1.\n",
      " -1. -1. -1. -1. -1. -1. -1.  1.  1.  1.  1.  1.  1.  1.  1.  1. -1. -1.\n",
      "  1. -1. -1.  1.  1.  1. -1. -1. -1. -1.  1. -1.  1.  1. -1.  1.  1.  1.\n",
      "  1. -1.  1. -1.  1.  1.  1.  1.  1.  1.  1.  1. -1. -1. -1. -1. -1.  1.\n",
      " -1.  1. -1.  1. -1.  1.  1.  1.  1.  1. -1.  1.  1. -1.  1.  1.  1. -1.\n",
      "  1. -1. -1. -1. -1. -1.  1. -1. -1. -1. -1.  1. -1.  1.  1.  1.  1.  1.\n",
      " -1.  1. -1.  1. -1.  1. -1. -1. -1.  1. -1.  1. -1. -1.  1. -1.  1.  1.\n",
      "  1. -1. -1.]\n"
     ]
    }
   ],
   "source": [
    "print(y_pred)"
   ]
  },
  {
   "cell_type": "code",
   "execution_count": 23,
   "metadata": {
    "ExecuteTime": {
     "end_time": "2023-06-08T21:46:22.523941Z",
     "start_time": "2023-06-08T21:46:22.489811Z"
    },
    "colab": {
     "base_uri": "https://localhost:8080/"
    },
    "id": "WPaGXiHjKDjz",
    "outputId": "d3834206-336b-42af-a591-4591c32c7d9c"
   },
   "outputs": [
    {
     "name": "stdout",
     "output_type": "stream",
     "text": [
      "Accuracy: 0.8546365914786967\n"
     ]
    }
   ],
   "source": [
    "# Évaluer les performances du modèle\n",
    "accuracy = accuracy_score(y_test, y_pred)\n",
    "print(\"Accuracy:\", accuracy)"
   ]
  },
  {
   "cell_type": "markdown",
   "metadata": {
    "collapsed": false
   },
   "source": [
    "The accuracy value of 0.8546365914786967 represents the overall correctness of the model’s predictions. It indicates that approximately 85.46% of the predictions made by the model are correct."
   ]
  },
  {
   "cell_type": "code",
   "execution_count": 24,
   "metadata": {
    "ExecuteTime": {
     "end_time": "2023-06-08T21:46:31.272783Z",
     "start_time": "2023-06-08T21:46:31.212729Z"
    },
    "colab": {
     "base_uri": "https://localhost:8080/"
    },
    "id": "C5AycPOEKDjz",
    "outputId": "b73e38dd-55d8-4e8b-ce1a-2b688462f7aa"
   },
   "outputs": [
    {
     "name": "stdout",
     "output_type": "stream",
     "text": [
      "Precision: 0.873015873015873\n",
      "Recall: 0.8291457286432161\n"
     ]
    }
   ],
   "source": [
    "from sklearn import metrics\n",
    "\n",
    "# Model Precision: what percentage of positive tuples are labeled as such?\n",
    "print(\"Precision:\",metrics.precision_score(y_test, y_pred))\n",
    "\n",
    "# Model Recall: what percentage of positive tuples are labelled as such?\n",
    "print(\"Recall:\",metrics.recall_score(y_test, y_pred))\n"
   ]
  },
  {
   "cell_type": "markdown",
   "metadata": {
    "collapsed": false
   },
   "source": [
    "#### Precision: 0.873015873015873\n",
    "This means that out of all the positive predictions made by the model, approximately 87.30% were correct.\n",
    "#### Recall: 0.8291457286432161\n",
    "This means that the model correctly identified approximately 82.91% of the positive samples."
   ]
  },
  {
   "cell_type": "markdown",
   "metadata": {
    "collapsed": false,
    "id": "i0NcenWdKDj0"
   },
   "source": []
  },
  {
   "cell_type": "markdown",
   "metadata": {
    "collapsed": false,
    "id": "lKR5K1zzKDj1"
   },
   "source": [
    "#### Visualize the model's predictions compared to the actual sentiments using a confusion matrix. This matrix shows the true positive, true negative, false positive, and false negative values."
   ]
  },
  {
   "cell_type": "code",
   "execution_count": 25,
   "metadata": {
    "ExecuteTime": {
     "end_time": "2023-06-08T21:46:38.295276Z",
     "start_time": "2023-06-08T21:46:37.709303Z"
    },
    "colab": {
     "base_uri": "https://localhost:8080/",
     "height": 472
    },
    "id": "fPYm9rrzKDj1",
    "outputId": "640a06bd-fe5a-4bdd-c8ca-a2f2df6c7c66"
   },
   "outputs": [
    {
     "data": {
      "image/png": "[encoded data removed]",
      "text/plain": [
       "<Figure size 640x480 with 2 Axes>"
      ]
     },
     "metadata": {},
     "output_type": "display_data"
    }
   ],
   "source": [
    "from sklearn.metrics import confusion_matrix\n",
    "import seaborn as sns\n",
    "import matplotlib.pyplot as plt\n",
    "\n",
    "cm = confusion_matrix(y_test, y_pred)\n",
    "sns.heatmap(cm, annot=True, fmt=\"d\", cmap=\"Blues\")\n",
    "plt.xlabel(\"Predicted\")\n",
    "plt.ylabel(\"Actual\")\n",
    "plt.title(\"Confusion Matrix\")\n",
    "plt.show()\n"
   ]
  },
  {
   "cell_type": "markdown",
   "metadata": {
    "collapsed": false
   },
   "source": [
    "True Positives (TP): 176\n",
    "These are the cases where the model correctly predicted the positive class.\n",
    "\n",
    "True Negatives (TN): 165\n",
    "These are the cases where the model correctly predicted the negative class.\n",
    "\n",
    "False Negatives (FN): 24\n",
    "These are the cases where the actual class was positive, but the model incorrectly predicted them as negative.\n",
    "\n",
    "False Positives (FP): 34\n",
    "These are the cases where the actual class was negative, but the model incorrectly predicted them as positive."
   ]
  }
 ],
 "metadata": {
  "colab": {
   "provenance": []
  },
  "kernelspec": {
   "display_name": "Python 3",
   "language": "python",
   "name": "python3"
  },
  "language_info": {
   "codemirror_mode": {
    "name": "ipython",
    "version": 2
   },
   "file_extension": ".py",
   "mimetype": "text/x-python",
   "name": "python",
   "nbconvert_exporter": "python",
   "pygments_lexer": "ipython2",
   "version": "2.7.6"
  }
 },
 "nbformat": 4,
 "nbformat_minor": 0
}
